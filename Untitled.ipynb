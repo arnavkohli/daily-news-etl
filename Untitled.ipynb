{
 "cells": [
  {
   "cell_type": "code",
   "execution_count": 1,
   "metadata": {},
   "outputs": [
    {
     "name": "stdout",
     "output_type": "stream",
     "text": [
      "Collecting sent2vec\n",
      "  Downloading https://files.pythonhosted.org/packages/4e/c6/1f57065edbc772d9529e4a5f75cb812f29bcc2bf59b8e4c34c8ecfd83fe3/sent2vec-0.2.0-py3-none-any.whl\n",
      "Collecting torch (from sent2vec)\n",
      "\u001b[?25l  Downloading https://files.pythonhosted.org/packages/e0/17/ee73e3011b9f62919eb2991ed4c216b90285469c6d0b11c1cda6538819b1/torch-1.8.1-cp37-none-macosx_10_9_x86_64.whl (119.5MB)\n",
      "\u001b[K     |████████████████████████████████| 119.5MB 94kB/s s eta 0:00:01  |                                | 215kB 2.6MB/s eta 0:00:47     |███████▏                        | 26.7MB 3.2MB/s eta 0:00:30     |██████████▋                     | 39.8MB 4.0MB/s eta 0:00:20     |████████████████████            | 74.6MB 4.6MB/s eta 0:00:10     |████████████████████▋           | 76.8MB 4.7MB/s eta 0:00:10     |█████████████████████▌          | 80.5MB 4.2MB/s eta 0:00:10     |█████████████████████▊          | 81.0MB 4.2MB/s eta 0:00:10\n",
      "\u001b[?25hRequirement already satisfied: numpy in /Users/arnavkohli/opt/anaconda3/lib/python3.7/site-packages (from sent2vec) (1.17.2)\n",
      "Collecting spacy (from sent2vec)\n",
      "\u001b[?25l  Downloading https://files.pythonhosted.org/packages/80/68/dda47e8d2e442e3f9e7a2ad34455dcf1f11c66b62b9577fe3f31b6906a3a/spacy-3.0.5-cp37-cp37m-macosx_10_9_x86_64.whl (12.3MB)\n",
      "\u001b[K     |████████████████████████████████| 12.3MB 1.0MB/s eta 0:00:01    |█████████▍                      | 3.6MB 2.4MB/s eta 0:00:04\n",
      "\u001b[?25hCollecting gensim (from sent2vec)\n",
      "\u001b[?25l  Downloading https://files.pythonhosted.org/packages/53/74/b43358520b6bc2f5175bd648eba27f78808ed1f5d0854f38c8c17d3261b6/gensim-4.0.1-cp37-cp37m-macosx_10_9_x86_64.whl (23.9MB)\n",
      "\u001b[K     |████████████████████████████████| 23.9MB 2.6MB/s eta 0:00:01    |████▎                           | 3.2MB 4.0MB/s eta 0:00:06     |█████▍                          | 4.0MB 3.0MB/s eta 0:00:07     |███████▏                        | 5.3MB 3.0MB/s eta 0:00:07     |██████████████████████▋         | 16.9MB 3.2MB/s eta 0:00:03\n",
      "\u001b[?25hCollecting transformers (from sent2vec)\n",
      "\u001b[?25l  Downloading https://files.pythonhosted.org/packages/81/91/61d69d58a1af1bd81d9ca9d62c90a6de3ab80d77f27c5df65d9a2c1f5626/transformers-4.5.0-py3-none-any.whl (2.1MB)\n",
      "\u001b[K     |████████████████████████████████| 2.2MB 3.9MB/s eta 0:00:01\n",
      "\u001b[?25hRequirement already satisfied: typing-extensions in /Users/arnavkohli/opt/anaconda3/lib/python3.7/site-packages (from torch->sent2vec) (3.7.4.3)\n",
      "Collecting packaging>=20.0 (from spacy->sent2vec)\n",
      "  Using cached https://files.pythonhosted.org/packages/3e/89/7ea760b4daa42653ece2380531c90f64788d979110a2ab51049d92f408af/packaging-20.9-py2.py3-none-any.whl\n",
      "Collecting cymem<2.1.0,>=2.0.2 (from spacy->sent2vec)\n",
      "  Downloading https://files.pythonhosted.org/packages/f5/e4/270d7d5b64528480f6f9923325266486ab286c014ce83610d7bc43368218/cymem-2.0.5-cp37-cp37m-macosx_10_9_x86_64.whl\n",
      "Collecting pathy>=0.3.5 (from spacy->sent2vec)\n",
      "  Downloading https://files.pythonhosted.org/packages/a2/53/97dc0197cca9357369b3b71bf300896cf2d3604fa60ffaaf5cbc277de7de/pathy-0.4.0-py3-none-any.whl\n",
      "Collecting tqdm<5.0.0,>=4.38.0 (from spacy->sent2vec)\n",
      "\u001b[?25l  Downloading https://files.pythonhosted.org/packages/72/8a/34efae5cf9924328a8f34eeb2fdaae14c011462d9f0e3fcded48e1266d1c/tqdm-4.60.0-py2.py3-none-any.whl (75kB)\n",
      "\u001b[K     |████████████████████████████████| 81kB 3.6MB/s eta 0:00:01\n",
      "\u001b[?25hRequirement already satisfied: requests<3.0.0,>=2.13.0 in /Users/arnavkohli/opt/anaconda3/lib/python3.7/site-packages (from spacy->sent2vec) (2.22.0)\n",
      "Collecting typer<0.4.0,>=0.3.0 (from spacy->sent2vec)\n",
      "  Downloading https://files.pythonhosted.org/packages/90/34/d138832f6945432c638f32137e6c79a3b682f06a63c488dcfaca6b166c64/typer-0.3.2-py3-none-any.whl\n",
      "Collecting pydantic<1.8.0,>=1.7.1 (from spacy->sent2vec)\n",
      "\u001b[?25l  Downloading https://files.pythonhosted.org/packages/73/1b/1ecc0a6bc11f997d7027f8ceca741d00a1fad726f25dc5870ae43b463ad3/pydantic-1.7.3-cp37-cp37m-macosx_10_9_x86_64.whl (2.3MB)\n",
      "\u001b[K     |████████████████████████████████| 2.3MB 4.6MB/s eta 0:00:01\n",
      "\u001b[?25hRequirement already satisfied: importlib-metadata>=0.20; python_version < \"3.8\" in /Users/arnavkohli/opt/anaconda3/lib/python3.7/site-packages (from spacy->sent2vec) (0.23)\n",
      "Collecting thinc<8.1.0,>=8.0.2 (from spacy->sent2vec)\n",
      "\u001b[?25l  Downloading https://files.pythonhosted.org/packages/38/b2/79c5cbb7240ca496996666ffaee449425ef49ee9ce87a7d49792c93afcc1/thinc-8.0.2-cp37-cp37m-macosx_10_9_x86_64.whl (1.1MB)\n",
      "\u001b[K     |████████████████████████████████| 1.1MB 4.3MB/s eta 0:00:01\n",
      "\u001b[?25hCollecting blis<0.8.0,>=0.4.0 (from spacy->sent2vec)\n",
      "\u001b[?25l  Downloading https://files.pythonhosted.org/packages/5c/f2/c0bd2de42c442fe1e0826aa525f9a8037b37eda465dbe09e9d7edbfb2f15/blis-0.7.4-cp37-cp37m-macosx_10_9_x86_64.whl (5.8MB)\n",
      "\u001b[K     |████████████████████████████████| 5.8MB 5.5MB/s eta 0:00:01\n",
      "\u001b[?25hRequirement already satisfied: jinja2 in /Users/arnavkohli/opt/anaconda3/lib/python3.7/site-packages (from spacy->sent2vec) (2.10.3)\n",
      "Collecting wasabi<1.1.0,>=0.8.1 (from spacy->sent2vec)\n",
      "  Downloading https://files.pythonhosted.org/packages/a6/1d/d281571b4c3b20fff183b485c6673c62878727119a849c7932651a8b5060/wasabi-0.8.2-py3-none-any.whl\n",
      "Collecting srsly<3.0.0,>=2.4.0 (from spacy->sent2vec)\n",
      "\u001b[?25l  Downloading https://files.pythonhosted.org/packages/3b/46/adc7a283db3067013b915fb26436c6c6ca39ee27aecb1bbefbd7fe3d59d7/srsly-2.4.0-cp37-cp37m-macosx_10_9_x86_64.whl (449kB)\n",
      "\u001b[K     |████████████████████████████████| 450kB 3.0MB/s eta 0:00:01\n",
      "\u001b[?25hCollecting catalogue<2.1.0,>=2.0.1 (from spacy->sent2vec)\n",
      "  Downloading https://files.pythonhosted.org/packages/48/5c/493a2f3bb0eac17b1d48129ecfd251f0520b6c89493e9fd0522f534a9e4a/catalogue-2.0.1-py3-none-any.whl\n",
      "Collecting murmurhash<1.1.0,>=0.28.0 (from spacy->sent2vec)\n",
      "  Downloading https://files.pythonhosted.org/packages/17/34/5abf7fcb3085dc7ad752af9a9b517d739ce62d16061f97cdda7bce0b53fc/murmurhash-1.0.5-cp37-cp37m-macosx_10_9_x86_64.whl\n",
      "Requirement already satisfied: setuptools in /Users/arnavkohli/opt/anaconda3/lib/python3.7/site-packages (from spacy->sent2vec) (41.4.0)\n",
      "Collecting spacy-legacy<3.1.0,>=3.0.0 (from spacy->sent2vec)\n",
      "  Downloading https://files.pythonhosted.org/packages/78/d8/e25bc7f99877de34def57d36769f0cce4e895b374cdc766718efc724f9ac/spacy_legacy-3.0.2-py2.py3-none-any.whl\n",
      "Collecting preshed<3.1.0,>=3.0.2 (from spacy->sent2vec)\n",
      "\u001b[?25l  Downloading https://files.pythonhosted.org/packages/f2/10/f18af885d80d458eaa25732348f70dbb1b83d24fa49a9fb5fee963f24def/preshed-3.0.5-cp37-cp37m-macosx_10_9_x86_64.whl (104kB)\n",
      "\u001b[K     |████████████████████████████████| 112kB 5.5MB/s eta 0:00:01\n",
      "\u001b[?25hCollecting smart-open>=1.8.1 (from gensim->sent2vec)\n",
      "\u001b[?25l  Downloading https://files.pythonhosted.org/packages/2f/36/5f7cdd039b2a49636aa098145a3f233601d4580805ccf19819743bd7dad1/smart_open-5.0.0-py3-none-any.whl (56kB)\n",
      "\u001b[K     |████████████████████████████████| 61kB 6.5MB/s eta 0:00:011\n",
      "\u001b[?25hRequirement already satisfied: scipy>=0.18.1 in /Users/arnavkohli/opt/anaconda3/lib/python3.7/site-packages (from gensim->sent2vec) (1.3.1)\n",
      "Requirement already satisfied: filelock in /Users/arnavkohli/opt/anaconda3/lib/python3.7/site-packages (from transformers->sent2vec) (3.0.12)\n",
      "Collecting tokenizers<0.11,>=0.10.1 (from transformers->sent2vec)\n",
      "\u001b[?25l  Downloading https://files.pythonhosted.org/packages/d1/43/518de4fc320cf51c967202bc8fe2f2acf348a1119c7f5660f65bba6841f4/tokenizers-0.10.2-cp37-cp37m-macosx_10_11_x86_64.whl (2.3MB)\n",
      "\u001b[K     |████████████████████████████████| 2.3MB 3.9MB/s eta 0:00:01\n",
      "\u001b[?25hCollecting sacremoses (from transformers->sent2vec)\n",
      "\u001b[?25l  Downloading https://files.pythonhosted.org/packages/08/cd/342e584ee544d044fb573ae697404ce22ede086c9e87ce5960772084cad0/sacremoses-0.0.44.tar.gz (862kB)\n",
      "\u001b[K     |████████████████████████████████| 870kB 2.1MB/s eta 0:00:01\n",
      "\u001b[?25hCollecting regex!=2019.12.17 (from transformers->sent2vec)\n",
      "\u001b[?25l  Downloading https://files.pythonhosted.org/packages/6b/02/5d8634b1848274caa6e25d69d83ca37668b4d718ed9a11bb2aa0c63af665/regex-2021.4.4-cp37-cp37m-macosx_10_9_x86_64.whl (285kB)\n",
      "\u001b[K     |████████████████████████████████| 286kB 3.9MB/s eta 0:00:01\n",
      "\u001b[?25hRequirement already satisfied: pyparsing>=2.0.2 in /Users/arnavkohli/opt/anaconda3/lib/python3.7/site-packages (from packaging>=20.0->spacy->sent2vec) (2.4.2)\n",
      "Requirement already satisfied: chardet<3.1.0,>=3.0.2 in /Users/arnavkohli/opt/anaconda3/lib/python3.7/site-packages (from requests<3.0.0,>=2.13.0->spacy->sent2vec) (3.0.4)\n"
     ]
    },
    {
     "name": "stdout",
     "output_type": "stream",
     "text": [
      "Requirement already satisfied: idna<2.9,>=2.5 in /Users/arnavkohli/opt/anaconda3/lib/python3.7/site-packages (from requests<3.0.0,>=2.13.0->spacy->sent2vec) (2.8)\n",
      "Requirement already satisfied: urllib3!=1.25.0,!=1.25.1,<1.26,>=1.21.1 in /Users/arnavkohli/opt/anaconda3/lib/python3.7/site-packages (from requests<3.0.0,>=2.13.0->spacy->sent2vec) (1.24.2)\n",
      "Requirement already satisfied: certifi>=2017.4.17 in /Users/arnavkohli/opt/anaconda3/lib/python3.7/site-packages (from requests<3.0.0,>=2.13.0->spacy->sent2vec) (2019.9.11)\n",
      "Collecting click<7.2.0,>=7.1.1 (from typer<0.4.0,>=0.3.0->spacy->sent2vec)\n",
      "  Using cached https://files.pythonhosted.org/packages/d2/3d/fa76db83bf75c4f8d338c2fd15c8d33fdd7ad23a9b5e57eb6c5de26b430e/click-7.1.2-py2.py3-none-any.whl\n",
      "Requirement already satisfied: zipp>=0.5 in /Users/arnavkohli/opt/anaconda3/lib/python3.7/site-packages (from importlib-metadata>=0.20; python_version < \"3.8\"->spacy->sent2vec) (0.6.0)\n",
      "Requirement already satisfied: MarkupSafe>=0.23 in /Users/arnavkohli/opt/anaconda3/lib/python3.7/site-packages (from jinja2->spacy->sent2vec) (1.1.1)\n",
      "Requirement already satisfied: six in /Users/arnavkohli/opt/anaconda3/lib/python3.7/site-packages (from sacremoses->transformers->sent2vec) (1.15.0)\n",
      "Requirement already satisfied: joblib in /Users/arnavkohli/opt/anaconda3/lib/python3.7/site-packages (from sacremoses->transformers->sent2vec) (0.13.2)\n",
      "Requirement already satisfied: more-itertools in /Users/arnavkohli/opt/anaconda3/lib/python3.7/site-packages (from zipp>=0.5->importlib-metadata>=0.20; python_version < \"3.8\"->spacy->sent2vec) (7.2.0)\n",
      "Building wheels for collected packages: sacremoses\n",
      "  Building wheel for sacremoses (setup.py) ... \u001b[?25ldone\n",
      "\u001b[?25h  Created wheel for sacremoses: filename=sacremoses-0.0.44-cp37-none-any.whl size=886084 sha256=561a215cd383d0e8b61de7a94bb496dd2b788eb7dd608945e51c3af63d414be9\n",
      "  Stored in directory: /Users/arnavkohli/Library/Caches/pip/wheels/3e/fb/c0/13ab4d63d537658f448366744654323077c4d90069b6512f3c\n",
      "Successfully built sacremoses\n",
      "\u001b[31mERROR: pathy 0.4.0 has requirement smart-open<4.0.0,>=2.2.0, but you'll have smart-open 5.0.0 which is incompatible.\u001b[0m\n",
      "Installing collected packages: torch, packaging, cymem, smart-open, click, typer, pathy, tqdm, pydantic, catalogue, srsly, murmurhash, preshed, blis, wasabi, thinc, spacy-legacy, spacy, gensim, tokenizers, regex, sacremoses, transformers, sent2vec\n",
      "  Found existing installation: packaging 19.2\n",
      "    Uninstalling packaging-19.2:\n",
      "      Successfully uninstalled packaging-19.2\n",
      "  Found existing installation: Click 7.0\n",
      "    Uninstalling Click-7.0:\n",
      "      Successfully uninstalled Click-7.0\n",
      "  Found existing installation: tqdm 4.36.1\n",
      "    Uninstalling tqdm-4.36.1:\n",
      "      Successfully uninstalled tqdm-4.36.1\n",
      "Successfully installed blis-0.7.4 catalogue-2.0.1 click-7.1.2 cymem-2.0.5 gensim-4.0.1 murmurhash-1.0.5 packaging-20.9 pathy-0.4.0 preshed-3.0.5 pydantic-1.7.3 regex-2021.4.4 sacremoses-0.0.44 sent2vec-0.2.0 smart-open-5.0.0 spacy-3.0.5 spacy-legacy-3.0.2 srsly-2.4.0 thinc-8.0.2 tokenizers-0.10.2 torch-1.8.1 tqdm-4.60.0 transformers-4.5.0 typer-0.3.2 wasabi-0.8.2\n"
     ]
    }
   ],
   "source": [
    "!pip install sent2vec"
   ]
  },
  {
   "cell_type": "code",
   "execution_count": 20,
   "metadata": {},
   "outputs": [
    {
     "name": "stdout",
     "output_type": "stream",
     "text": [
      "dist_1: 0.10137200355529785\n"
     ]
    }
   ],
   "source": [
    "from scipy import spatial\n",
    "from sent2vec.vectorizer import Vectorizer\n",
    "\n",
    "sentences = [\n",
    "    \"India's Migrants Flee to Villages as Covid-19 Prompts New Lockdown\",\n",
    "    \"More Bloodshed in Myanmar as Crackdown on Coup Protests Continues\",\n",
    "    \"Myanmar's Military Has Enemies. Protesters Are Asking for Their Help.\"\n",
    "]\n",
    "\n",
    "vectorizer = Vectorizer()\n",
    "vectorizer.bert(sentences)\n",
    "vectors_bert = vectorizer.vectors\n",
    "\n",
    "dist_1 = spatial.distance.cosine(vectors_bert[0], vectors_bert[2])\n",
    "print('dist_1: {0}'.format(dist_1))"
   ]
  },
  {
   "cell_type": "code",
   "execution_count": 21,
   "metadata": {},
   "outputs": [
    {
     "name": "stdout",
     "output_type": "stream",
     "text": [
      "['Myanmar', \"'s\", 'Military', 'Has', 'Enemies', '.', 'Protesters', 'Are', 'Asking', 'Their', 'Help', '.']\n",
      "['myanmar', \"'s\", 'militari', 'ha', 'enemi', '.', 'protest', 'are', 'ask', 'their', 'help', '.']\n"
     ]
    }
   ],
   "source": [
    "import nltk\n",
    "from nltk.corpus import stopwords \n",
    "from nltk.tokenize import word_tokenize \n",
    "from nltk.stem import PorterStemmer\n",
    "  \n",
    "example_sent = \"Myanmar's Military Has Enemies. Protesters Are Asking for Their Help.\"\n",
    "  \n",
    "stop_words = set(stopwords.words('english')) \n",
    "  \n",
    "word_tokens = word_tokenize(example_sent) \n",
    "  \n",
    "filtered_sentence = [w for w in word_tokens if not w in stop_words] \n",
    "\n",
    "Stem_words = []\n",
    "ps =PorterStemmer()\n",
    "for w in filtered_sentence:\n",
    "    rootWord=ps.stem(w)\n",
    "    Stem_words.append(rootWord)\n",
    "print(Stem_words)"
   ]
  },
  {
   "cell_type": "code",
   "execution_count": 19,
   "metadata": {},
   "outputs": [
    {
     "data": {
      "text/plain": [
       "\"Myanmar 's Military Has Enemies . Protesters Are Asking Their Help .\""
      ]
     },
     "execution_count": 19,
     "metadata": {},
     "output_type": "execute_result"
    }
   ],
   "source": [
    "' '.join(filtered_sentence)"
   ]
  },
  {
   "cell_type": "code",
   "execution_count": 28,
   "metadata": {},
   "outputs": [
    {
     "name": "stdout",
     "output_type": "stream",
     "text": [
      "similarity:  0.10660035817780521\n"
     ]
    }
   ],
   "source": [
    "# Program to measure the similarity between \n",
    "# two sentences using cosine similarity.\n",
    "from nltk.corpus import stopwords\n",
    "from nltk.tokenize import word_tokenize\n",
    "  \n",
    "# X = input(\"Enter first string: \").lower()\n",
    "# Y = input(\"Enter second string: \").lower()\n",
    "X =\"Bernie Madoff, Fraud Mastermind, Dies at Age 82\"\n",
    "Y =\"Biden Brushes Off China\\u2019s Complaints, Sends First Delegation to Taiwan\"\n",
    "  \n",
    "# tokenization\n",
    "X_list = word_tokenize(X) \n",
    "Y_list = word_tokenize(Y)\n",
    "  \n",
    "# sw contains the list of stopwords\n",
    "sw = stopwords.words('english') \n",
    "l1 =[];l2 =[]\n",
    "  \n",
    "# remove stop words from the string\n",
    "X_set = {w for w in X_list if not w in sw} \n",
    "Y_set = {w for w in Y_list if not w in sw}\n",
    "  \n",
    "# form a set containing keywords of both strings \n",
    "rvector = X_set.union(Y_set) \n",
    "for w in rvector:\n",
    "    if w in X_set: l1.append(1) # create a vector\n",
    "    else: l1.append(0)\n",
    "    if w in Y_set: l2.append(1)\n",
    "    else: l2.append(0)\n",
    "c = 0\n",
    "  \n",
    "# cosine formula \n",
    "for i in range(len(rvector)):\n",
    "        c+= l1[i]*l2[i]\n",
    "cosine = c / float((sum(l1)*sum(l2))**0.5)\n",
    "\n",
    "print(\"similarity: \", cosine)"
   ]
  },
  {
   "cell_type": "code",
   "execution_count": null,
   "metadata": {},
   "outputs": [],
   "source": []
  }
 ],
 "metadata": {
  "kernelspec": {
   "display_name": "Python 3",
   "language": "python",
   "name": "python3"
  },
  "language_info": {
   "codemirror_mode": {
    "name": "ipython",
    "version": 3
   },
   "file_extension": ".py",
   "mimetype": "text/x-python",
   "name": "python",
   "nbconvert_exporter": "python",
   "pygments_lexer": "ipython3",
   "version": "3.7.4"
  }
 },
 "nbformat": 4,
 "nbformat_minor": 2
}
